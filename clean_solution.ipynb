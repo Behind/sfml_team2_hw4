{
 "cells": [
  {
   "cell_type": "code",
   "execution_count": 1,
   "metadata": {},
   "outputs": [],
   "source": [
    "import pandas as pd\n",
    "from sklearn.utils import resample\n",
    "df = pd.read_csv('train.csv')"
   ]
  },
  {
   "cell_type": "code",
   "execution_count": 8,
   "metadata": {},
   "outputs": [],
   "source": [
    "def preprocessing_optimal(df):\n",
    "    df = df.drop([\"_id\", \"age\", 'job', \"marital\", \"education\", \"default\",\n",
    "                 \"housing\", \"loan\", \"day_of_week\", 'campaign', 'previous', 'emp.var.rate', \"cons.price.idx\",\n",
    "                 \"cons.conf.idx\", \"euribor3m\", 'pdays'], axis = 1)\n",
    "    df = pd.get_dummies(df, columns=['contact', 'month', 'poutcome'])\n",
    "    return df\n",
    "def preprocessing(df_input, algorithm = preprocessing_optimal):\n",
    "    return algorithm(df_input)"
   ]
  },
  {
   "cell_type": "code",
   "execution_count": 9,
   "metadata": {},
   "outputs": [],
   "source": [
    "from sklearn.preprocessing import StandardScaler\n",
    "#обрабатываем данные инициализируем X и Y\n",
    "df_prepared = preprocessing(df)\n",
    "Y = df_prepared['target']\n",
    "X = StandardScaler().fit_transform(df_prepared.drop('target', axis=1))"
   ]
  },
  {
   "cell_type": "code",
   "execution_count": 16,
   "metadata": {},
   "outputs": [
    {
     "name": "stdout",
     "output_type": "stream",
     "text": [
      "(17298, 17) (7414, 17) (17298,) (7414,)\n"
     ]
    },
    {
     "name": "stderr",
     "output_type": "stream",
     "text": [
      "C:\\Users\\Evgeny\\Anaconda3\\lib\\site-packages\\sklearn\\model_selection\\_split.py:2026: FutureWarning: From version 0.21, test_size will always complement train_size unless both are specified.\n",
      "  FutureWarning)\n"
     ]
    }
   ],
   "source": [
    "from sklearn.model_selection import train_test_split\n",
    "X_train, X_test, y_train, y_test = train_test_split(X, Y, train_size=0.7, random_state=12134)\n",
    "print(X_train.shape, X_test.shape, y_train.shape, y_test.shape)"
   ]
  },
  {
   "cell_type": "code",
   "execution_count": 34,
   "metadata": {},
   "outputs": [],
   "source": [
    "from sklearn.linear_model import LogisticRegression\n",
    "from sklearn.tree import DecisionTreeClassifier\n",
    "from sklearn.ensemble import RandomForestClassifier\n",
    "from sklearn.neighbors import KNeighborsClassifier\n",
    "from sklearn.metrics import roc_auc_score"
   ]
  },
  {
   "cell_type": "code",
   "execution_count": 35,
   "metadata": {},
   "outputs": [],
   "source": [
    "logreg = LogisticRegression().fit(X_train, y_train)\n",
    "decision_tree = DecisionTreeClassifier(max_depth = 5).fit(X_train, y_train)\n",
    "random_forest = RandomForestClassifier(max_depth = 8).fit(X_train, y_train)\n",
    "knn = KNeighborsClassifier(n_neighbors=20).fit(X_train, y_train)"
   ]
  },
  {
   "cell_type": "code",
   "execution_count": 46,
   "metadata": {},
   "outputs": [
    {
     "data": {
      "text/plain": [
       "0.8739181237161758"
      ]
     },
     "execution_count": 46,
     "metadata": {},
     "output_type": "execute_result"
    }
   ],
   "source": [
    "model = random_forest\n",
    "lst = list()\n",
    "for i in range (1,21):\n",
    "    lst.append(roc_auc_score(y_test, \n",
    "        [ 1 if y > (0.02 * i) else 0 for y in model.predict_proba(X_test)[:,1]]))\n",
    "max(lst)"
   ]
  }
 ],
 "metadata": {
  "kernelspec": {
   "display_name": "Python 3",
   "language": "python",
   "name": "python3"
  },
  "language_info": {
   "codemirror_mode": {
    "name": "ipython",
    "version": 3
   },
   "file_extension": ".py",
   "mimetype": "text/x-python",
   "name": "python",
   "nbconvert_exporter": "python",
   "pygments_lexer": "ipython3",
   "version": "3.6.5"
  }
 },
 "nbformat": 4,
 "nbformat_minor": 2
}
