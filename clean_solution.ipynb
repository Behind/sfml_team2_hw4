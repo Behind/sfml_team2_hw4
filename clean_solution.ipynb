{
 "cells": [
  {
   "cell_type": "code",
   "execution_count": 1,
   "metadata": {},
   "outputs": [],
   "source": [
    "import pandas as pd\n",
    "from sklearn.utils import resample\n",
    "df = pd.read_csv('train.csv')"
   ]
  },
  {
   "cell_type": "code",
   "execution_count": null,
   "metadata": {},
   "outputs": [],
   "source": [
    "df.info()"
   ]
  },
  {
   "cell_type": "code",
   "execution_count": 2,
   "metadata": {},
   "outputs": [
    {
     "name": "stdout",
     "output_type": "stream",
     "text": [
      "1 2 5 7 8\n"
     ]
    }
   ],
   "source": [
    "#функция для разбиения возрастов по группам согласно гипотезе, приведенной в файле.\n",
    "#group_size - параметр размера каждой группы\n",
    "#результаты нужно обязательно подвергуть one-hot encoding, так как зависимость нелинейная\n",
    "def get_age_group(age):\n",
    "    group_size = 7\n",
    "    if age <= 17:\n",
    "        return 1\n",
    "    if age > 66:\n",
    "        age = 66\n",
    "    return 1 + ((age - 17) // group_size)\n",
    "print(get_age_group(18), get_age_group(27), get_age_group(45), get_age_group(60), get_age_group(80))"
   ]
  },
  {
   "cell_type": "code",
   "execution_count": 4,
   "metadata": {},
   "outputs": [
    {
     "name": "stdout",
     "output_type": "stream",
     "text": [
      "1 1 2 3\n"
     ]
    }
   ],
   "source": [
    "def get_pdays_group(pdays):\n",
    "    if (pdays == 0) or (pdays == 999):\n",
    "        return 1\n",
    "    elif 2 <= pdays < 15:\n",
    "        return 2\n",
    "    return 3\n",
    "\n",
    "print (get_pdays_group(999), get_pdays_group(0), get_pdays_group(3), get_pdays_group(20))"
   ]
  },
  {
   "cell_type": "code",
   "execution_count": 120,
   "metadata": {},
   "outputs": [],
   "source": [
    "def preprocessing_optimal(df):\n",
    "    df = df.drop([\"_id\", \"age\", 'job', \"marital\", \"education\", \"default\",\n",
    "                 \"housing\", \"loan\", \"day_of_week\", 'campaign', 'previous', 'emp.var.rate', \"cons.price.idx\",\n",
    "                 \"cons.conf.idx\", \"euribor3m\", 'pdays'], axis = 1)\n",
    "    df = pd.get_dummies(df, columns=['contact', 'month', 'poutcome'])\n",
    "    return df\n",
    "\n",
    "def preprocessing_minimal(df):\n",
    "    df[\"age_group\"] = df[\"age\"].map(get_age_group)\n",
    "    df['pdays'] = df['pdays'].map(get_pdays_group)\n",
    "    df['default'] = df['default'].map(lambda x: 'unknown' if x == 'yes' else x)\n",
    "    \n",
    "    df = df.drop([\"_id\", \"age\", \"housing\", \"loan\", \"day_of_week\"], axis = 1)\n",
    "    #, \"cons.price.idx\", \"cons.conf.idx\", \"euribor3m\"\n",
    "    df = pd.get_dummies(df, columns=[\"marital\", \"education\", 'default', 'age_group', 'job', 'contact', 'month', 'poutcome'])\n",
    "    return df\n",
    "\n",
    "def preprocessing_1(df):\n",
    "    \n",
    "    df[\"age_group\"] = df[\"age\"].map(get_age_group)\n",
    "    df['pdays'] = df['pdays'].map(get_pdays_group)\n",
    "    df = df.drop([\"_id\", \"age\", \"default\",\n",
    "                 \"housing\", \"loan\", \"day_of_week\", 'previous', \"cons.price.idx\",\n",
    "                 \"cons.conf.idx\", \"euribor3m\", 'marital'], axis = 1)\n",
    "    df = pd.get_dummies(df, columns=['age_group', 'contact', 'month', 'poutcome', 'pdays', 'job', 'education'])\n",
    "    return df\n",
    "\n",
    "def preprocessing(df_input, algorithm = preprocessing_minimal):\n",
    "    return algorithm(df_input.copy())"
   ]
  },
  {
   "cell_type": "code",
   "execution_count": 121,
   "metadata": {},
   "outputs": [],
   "source": [
    "from sklearn.preprocessing import StandardScaler\n",
    "#обрабатываем данные инициализируем X и Y\n",
    "df_prepared = preprocessing(df)\n",
    "preprocessing(df).to_csv('temp.csv',index=False)\n",
    "y = df_prepared['target']\n",
    "X = StandardScaler().fit_transform(df_prepared.drop('target', axis=1))\n"
   ]
  },
  {
   "cell_type": "code",
   "execution_count": 126,
   "metadata": {},
   "outputs": [
    {
     "name": "stdout",
     "output_type": "stream",
     "text": [
      "<class 'pandas.core.frame.DataFrame'>\n",
      "RangeIndex: 24712 entries, 0 to 24711\n",
      "Data columns (total 59 columns):\n",
      "duration                         24712 non-null int64\n",
      "campaign                         24712 non-null int64\n",
      "pdays                            24712 non-null int64\n",
      "previous                         24712 non-null int64\n",
      "emp.var.rate                     24712 non-null float64\n",
      "cons.price.idx                   24712 non-null float64\n",
      "cons.conf.idx                    24712 non-null float64\n",
      "euribor3m                        24712 non-null float64\n",
      "nr.employed                      24712 non-null float64\n",
      "target                           24712 non-null int64\n",
      "marital_divorced                 24712 non-null uint8\n",
      "marital_married                  24712 non-null uint8\n",
      "marital_single                   24712 non-null uint8\n",
      "marital_unknown                  24712 non-null uint8\n",
      "education_basic.4y               24712 non-null uint8\n",
      "education_basic.6y               24712 non-null uint8\n",
      "education_basic.9y               24712 non-null uint8\n",
      "education_high.school            24712 non-null uint8\n",
      "education_illiterate             24712 non-null uint8\n",
      "education_professional.course    24712 non-null uint8\n",
      "education_university.degree      24712 non-null uint8\n",
      "education_unknown                24712 non-null uint8\n",
      "default_no                       24712 non-null uint8\n",
      "default_unknown                  24712 non-null uint8\n",
      "age_group_1                      24712 non-null uint8\n",
      "age_group_2                      24712 non-null uint8\n",
      "age_group_3                      24712 non-null uint8\n",
      "age_group_4                      24712 non-null uint8\n",
      "age_group_5                      24712 non-null uint8\n",
      "age_group_6                      24712 non-null uint8\n",
      "age_group_7                      24712 non-null uint8\n",
      "age_group_8                      24712 non-null uint8\n",
      "job_admin.                       24712 non-null uint8\n",
      "job_blue-collar                  24712 non-null uint8\n",
      "job_entrepreneur                 24712 non-null uint8\n",
      "job_housemaid                    24712 non-null uint8\n",
      "job_management                   24712 non-null uint8\n",
      "job_retired                      24712 non-null uint8\n",
      "job_self-employed                24712 non-null uint8\n",
      "job_services                     24712 non-null uint8\n",
      "job_student                      24712 non-null uint8\n",
      "job_technician                   24712 non-null uint8\n",
      "job_unemployed                   24712 non-null uint8\n",
      "job_unknown                      24712 non-null uint8\n",
      "contact_cellular                 24712 non-null uint8\n",
      "contact_telephone                24712 non-null uint8\n",
      "month_apr                        24712 non-null uint8\n",
      "month_aug                        24712 non-null uint8\n",
      "month_dec                        24712 non-null uint8\n",
      "month_jul                        24712 non-null uint8\n",
      "month_jun                        24712 non-null uint8\n",
      "month_mar                        24712 non-null uint8\n",
      "month_may                        24712 non-null uint8\n",
      "month_nov                        24712 non-null uint8\n",
      "month_oct                        24712 non-null uint8\n",
      "month_sep                        24712 non-null uint8\n",
      "poutcome_failure                 24712 non-null uint8\n",
      "poutcome_nonexistent             24712 non-null uint8\n",
      "poutcome_success                 24712 non-null uint8\n",
      "dtypes: float64(5), int64(5), uint8(49)\n",
      "memory usage: 3.0 MB\n"
     ]
    }
   ],
   "source": [
    "df_prepared.info()"
   ]
  },
  {
   "cell_type": "code",
   "execution_count": 122,
   "metadata": {},
   "outputs": [
    {
     "name": "stdout",
     "output_type": "stream",
     "text": [
      "(17298, 58) (7414, 58) (17298,) (7414,)\n"
     ]
    },
    {
     "name": "stderr",
     "output_type": "stream",
     "text": [
      "C:\\Users\\Evgeny\\Anaconda3\\lib\\site-packages\\sklearn\\model_selection\\_split.py:2026: FutureWarning: From version 0.21, test_size will always complement train_size unless both are specified.\n",
      "  FutureWarning)\n"
     ]
    }
   ],
   "source": [
    "from sklearn.model_selection import train_test_split\n",
    "X_train, X_test, y_train, y_test = train_test_split(X, y, train_size=0.7, random_state=12134)\n",
    "print(X_train.shape, X_test.shape, y_train.shape, y_test.shape)"
   ]
  },
  {
   "cell_type": "code",
   "execution_count": 123,
   "metadata": {},
   "outputs": [],
   "source": [
    "from sklearn.linear_model import LogisticRegression\n",
    "from sklearn.tree import DecisionTreeClassifier\n",
    "from sklearn.ensemble import RandomForestClassifier\n",
    "from sklearn.neighbors import KNeighborsClassifier\n",
    "from sklearn.metrics import roc_auc_score\n",
    "import numpy as np"
   ]
  },
  {
   "cell_type": "code",
   "execution_count": 148,
   "metadata": {},
   "outputs": [
    {
     "name": "stderr",
     "output_type": "stream",
     "text": [
      "C:\\Users\\Evgeny\\Anaconda3\\lib\\site-packages\\sklearn\\linear_model\\coordinate_descent.py:491: ConvergenceWarning: Objective did not converge. You might want to increase the number of iterations. Fitting data with very small alpha may cause precision problems.\n",
      "  ConvergenceWarning)\n"
     ]
    },
    {
     "data": {
      "text/html": [
       "<div>\n",
       "<style scoped>\n",
       "    .dataframe tbody tr th:only-of-type {\n",
       "        vertical-align: middle;\n",
       "    }\n",
       "\n",
       "    .dataframe tbody tr th {\n",
       "        vertical-align: top;\n",
       "    }\n",
       "\n",
       "    .dataframe thead th {\n",
       "        text-align: right;\n",
       "    }\n",
       "</style>\n",
       "<table border=\"1\" class=\"dataframe\">\n",
       "  <thead>\n",
       "    <tr style=\"text-align: right;\">\n",
       "      <th></th>\n",
       "      <th>title</th>\n",
       "      <th>predictions</th>\n",
       "      <th>roc_auc_proba</th>\n",
       "      <th>best_roc_auc</th>\n",
       "      <th>threshold</th>\n",
       "    </tr>\n",
       "  </thead>\n",
       "  <tbody>\n",
       "    <tr>\n",
       "      <th>0</th>\n",
       "      <td>logreg</td>\n",
       "      <td>[0.11994676609049412, 0.013806563881302556, 0....</td>\n",
       "      <td>0.930915</td>\n",
       "      <td>0.875098</td>\n",
       "      <td>0.085</td>\n",
       "    </tr>\n",
       "    <tr>\n",
       "      <th>1</th>\n",
       "      <td>decision_tree</td>\n",
       "      <td>[0.14285714285714285, 0.0038889391335805374, 0...</td>\n",
       "      <td>0.913542</td>\n",
       "      <td>0.860865</td>\n",
       "      <td>0.048</td>\n",
       "    </tr>\n",
       "    <tr>\n",
       "      <th>2</th>\n",
       "      <td>random_forest</td>\n",
       "      <td>[0.26308197791265575, 0.018657402373295544, 0....</td>\n",
       "      <td>0.924409</td>\n",
       "      <td>0.873224</td>\n",
       "      <td>0.132</td>\n",
       "    </tr>\n",
       "    <tr>\n",
       "      <th>3</th>\n",
       "      <td>knn</td>\n",
       "      <td>[0.1, 0.0, 0.1, 0.02, 0.06, 0.0, 0.04, 0.02, 0...</td>\n",
       "      <td>0.870529</td>\n",
       "      <td>0.805284</td>\n",
       "      <td>0.080</td>\n",
       "    </tr>\n",
       "    <tr>\n",
       "      <th>4</th>\n",
       "      <td>elastic</td>\n",
       "      <td>[0.2060601628351671, -0.012894135236455315, 0....</td>\n",
       "      <td>0.930446</td>\n",
       "      <td>0.875413</td>\n",
       "      <td>0.164</td>\n",
       "    </tr>\n",
       "  </tbody>\n",
       "</table>\n",
       "</div>"
      ],
      "text/plain": [
       "           title                                        predictions  \\\n",
       "0         logreg  [0.11994676609049412, 0.013806563881302556, 0....   \n",
       "1  decision_tree  [0.14285714285714285, 0.0038889391335805374, 0...   \n",
       "2  random_forest  [0.26308197791265575, 0.018657402373295544, 0....   \n",
       "3            knn  [0.1, 0.0, 0.1, 0.02, 0.06, 0.0, 0.04, 0.02, 0...   \n",
       "4        elastic  [0.2060601628351671, -0.012894135236455315, 0....   \n",
       "\n",
       "   roc_auc_proba  best_roc_auc  threshold  \n",
       "0       0.930915      0.875098      0.085  \n",
       "1       0.913542      0.860865      0.048  \n",
       "2       0.924409      0.873224      0.132  \n",
       "3       0.870529      0.805284      0.080  \n",
       "4       0.930446      0.875413      0.164  "
      ]
     },
     "execution_count": 148,
     "metadata": {},
     "output_type": "execute_result"
    }
   ],
   "source": [
    "logreg = LogisticRegression(penalty='l1').fit(X_train, y_train)\n",
    "decision_tree = DecisionTreeClassifier(max_depth = 7).fit(X_train, y_train)\n",
    "random_forest = RandomForestClassifier(max_depth = 8).fit(X_train, y_train)\n",
    "knn = KNeighborsClassifier(n_neighbors=50, metric='minkowski').fit(X_train, y_train)\n",
    "elastic = ElasticNet(alpha=0.0001, l1_ratio=0.5).fit(X_train, y_train)\n",
    "\n",
    "models = pd.DataFrame({'title': [\"logreg\", \"decision_tree\", \"random_forest\", \"knn\", \"elastic\"],\n",
    "                       'predictions': [logreg.predict_proba(X_test)[:,1], \n",
    "                                         decision_tree.predict_proba(X_test)[:,1], \n",
    "                                         random_forest.predict_proba(X_test)[:,1], \n",
    "                                         knn.predict_proba(X_test)[:,1],\n",
    "                                          elastic.predict(X_test)]})\n",
    "\n",
    "models['roc_auc_proba'] = models['predictions'].map(lambda y_hat: roc_auc_score(y_test, y_hat))\n",
    "\n",
    "step = 0.001\n",
    "steps = 200\n",
    "models['best_roc_auc'] = models['predictions'].map(\n",
    "    lambda y_hat: max([roc_auc_score(y_test,[ 1 if y > (step * i) else 0 for y in y_hat]) for i in range(steps)]))\n",
    "models['threshold'] = models['predictions'].map(\n",
    "    lambda y_hat: step * np.argmax([roc_auc_score(y_test,[ 1 if y > (step * i) else 0 for y in y_hat]) for i in range(steps)]))\n",
    "models                       "
   ]
  },
  {
   "cell_type": "code",
   "execution_count": 125,
   "metadata": {},
   "outputs": [
    {
     "data": {
      "text/plain": [
       "array([[ 1.23009907e+00, -1.37406913e-01,  1.49602163e-01,\n",
       "        -1.74890582e-02, -2.47440780e+00,  9.99613248e-01,\n",
       "         4.71668061e-02,  8.61330492e-01,  0.00000000e+00,\n",
       "         3.55388288e-02, -1.89757829e-03,  0.00000000e+00,\n",
       "        -1.93567613e-02, -2.78137166e-02,  5.05782401e-02,\n",
       "        -1.60028362e-03, -1.30833667e-02, -6.88290700e-02,\n",
       "         0.00000000e+00,  6.73646585e-02,  2.92253530e-03,\n",
       "         8.18377542e-02, -6.80237763e-02,  5.82840698e-02,\n",
       "        -2.83040080e-03,  0.00000000e+00, -4.46438236e-02,\n",
       "        -5.05817622e-02,  3.78822836e-02,  3.54893207e-02,\n",
       "         8.02862832e-02,  4.93986849e-02, -7.70385013e-03,\n",
       "         0.00000000e+00, -2.09244980e-04,  8.72366738e-03,\n",
       "        -4.26576985e-02, -2.37272220e-02,  0.00000000e+00,\n",
       "         1.52815837e-02,  6.53881957e-03,  4.09937613e-02,\n",
       "        -1.08205167e-01,  1.17820119e-01, -2.29512742e-01,\n",
       "         0.00000000e+00,  2.89035617e-01,  5.50359196e-03,\n",
       "         8.25984060e-02, -7.61590103e-02,  2.29200701e-01,\n",
       "        -2.05101464e-01, -1.00142712e-01,  2.22774588e-02,\n",
       "         3.07232170e-02, -1.37801488e-01,  0.00000000e+00,\n",
       "         9.93486100e-02]])"
      ]
     },
     "execution_count": 125,
     "metadata": {},
     "output_type": "execute_result"
    }
   ],
   "source": [
    "logreg.coef_"
   ]
  },
  {
   "cell_type": "code",
   "execution_count": 142,
   "metadata": {},
   "outputs": [
    {
     "name": "stderr",
     "output_type": "stream",
     "text": [
      "C:\\Users\\Evgeny\\Anaconda3\\lib\\site-packages\\sklearn\\linear_model\\coordinate_descent.py:491: ConvergenceWarning: Objective did not converge. You might want to increase the number of iterations. Fitting data with very small alpha may cause precision problems.\n",
      "  ConvergenceWarning)\n"
     ]
    },
    {
     "data": {
      "text/plain": [
       "0.9304464166078509"
      ]
     },
     "execution_count": 142,
     "metadata": {},
     "output_type": "execute_result"
    }
   ],
   "source": [
    "\n",
    "from sklearn.linear_model import ElasticNet\n",
    "elastic = ElasticNet(alpha=0.0001, l1_ratio=0.5)\n",
    "\n",
    "elastic.fit(X_train, y_train)\n",
    "\n",
    "roc_auc_score(y_test, elastic.predict(X_test))"
   ]
  },
  {
   "cell_type": "code",
   "execution_count": 143,
   "metadata": {},
   "outputs": [
    {
     "data": {
      "text/plain": [
       "array([ 1.19954359e-01,  2.37613936e-03,  2.49846181e-02, -3.29339477e-03,\n",
       "       -2.36895632e-01,  8.69490841e-02,  9.99023443e-03,  1.56661530e-01,\n",
       "       -6.93195603e-02,  1.13967455e-03,  0.00000000e+00, -8.75909460e-04,\n",
       "       -1.53583830e-03, -7.62644721e-04,  3.35638079e-03,  0.00000000e+00,\n",
       "       -6.10435032e-04, -2.40382233e-03, -3.31668510e-04,  4.99630366e-03,\n",
       "        5.96296133e-04,  4.14319394e-03, -2.08317808e-04,  7.18612742e-03,\n",
       "       -5.74050243e-04,  0.00000000e+00, -1.90950057e-03, -2.57521666e-03,\n",
       "        1.34177287e-03,  2.20144338e-03,  8.90165687e-03,  3.65766520e-03,\n",
       "       -0.00000000e+00,  2.11984785e-04, -2.10056083e-04,  0.00000000e+00,\n",
       "       -1.93751587e-03, -8.31279092e-04, -2.01185879e-05,  2.02710169e-03,\n",
       "        2.14400240e-03,  2.95956170e-03, -3.39698485e-03,  2.53672585e-02,\n",
       "       -1.22310358e-03, -1.53034616e-03,  2.97819276e-02,  6.86907269e-04,\n",
       "        1.32342183e-02,  0.00000000e+00,  3.05908351e-02, -1.82259829e-02,\n",
       "       -8.69756749e-03, -3.87476317e-04, -0.00000000e+00, -1.13225041e-02,\n",
       "        0.00000000e+00,  2.74290700e-02])"
      ]
     },
     "execution_count": 143,
     "metadata": {},
     "output_type": "execute_result"
    }
   ],
   "source": [
    "elastic"
   ]
  },
  {
   "cell_type": "code",
   "execution_count": null,
   "metadata": {},
   "outputs": [],
   "source": []
  },
  {
   "cell_type": "code",
   "execution_count": 139,
   "metadata": {},
   "outputs": [
    {
     "name": "stderr",
     "output_type": "stream",
     "text": [
      "C:\\Users\\Evgeny\\Anaconda3\\lib\\site-packages\\sklearn\\linear_model\\coordinate_descent.py:491: ConvergenceWarning: Objective did not converge. You might want to increase the number of iterations. Fitting data with very small alpha may cause precision problems.\n",
      "  ConvergenceWarning)\n"
     ]
    },
    {
     "name": "stdout",
     "output_type": "stream",
     "text": [
      "1e-05 0.9303864583556121\n",
      "1.8329807108324375e-05 0.9303988887249787\n",
      "3.359818286283781e-05 0.9304051039096619\n",
      "6.158482110660267e-05 0.9304266742565039\n",
      "0.00011288378916846884 0.9304487930019946\n",
      "0.00020691380811147902 0.9304798689254111\n",
      "0.000379269019073225 0.9304317926438902\n",
      "0.0006951927961775605 0.9301921424344841\n",
      "0.0012742749857031334 0.9293684476643975\n",
      "0.002335721469090121 0.9284474121341977\n",
      "0.004281332398719391 0.9284324225711378\n",
      "0.007847599703514606 0.9286986701149973\n",
      "0.01438449888287663 0.9284259331871303\n",
      "0.026366508987303583 0.927445122204241\n",
      "0.04832930238571752 0.9251047395718799\n",
      "0.08858667904100823 0.9146928428309581\n",
      "0.1623776739188721 0.9136739181419962\n",
      "0.2976351441631319 0.5\n",
      "0.5455594781168515 0.5\n",
      "1.0 0.5\n"
     ]
    }
   ],
   "source": [
    "for i in np.logspace(-5, 0, 20):\n",
    "    print(i, roc_auc_score(y_test, ElasticNet(alpha=i, l1_ratio=0.5).fit(X_train, y_train).predict(X_test)))"
   ]
  },
  {
   "cell_type": "code",
   "execution_count": 18,
   "metadata": {},
   "outputs": [
    {
     "data": {
      "text/plain": [
       "(-0.01, 1.01)"
      ]
     },
     "execution_count": 18,
     "metadata": {},
     "output_type": "execute_result"
    },
    {
     "data": {
      "image/png": "[encoded data removed]",
      "text/plain": [
       "<Figure size 360x360 with 1 Axes>"
      ]
     },
     "metadata": {},
     "output_type": "display_data"
    }
   ],
   "source": [
    "%matplotlib inline\n",
    "from matplotlib import pyplot as plt\n",
    "from sklearn.metrics import roc_curve\n",
    "fpr, tpr, thresholds = roc_curve(y_test, logreg.predict(X_test))\n",
    "fpr2, tpr2, thresholds2 = roc_curve(y_test, decision_tree.predict(X_test))\n",
    "#fpr3, tpr3, thresholds3 = roc_curve(y_test, random_forest.predict(X_test))\n",
    "fpr4, tpr4, thresholds4 = roc_curve(y_test, knn.predict(X_test))\n",
    "plt.figure(figsize=(5, 5))\n",
    "plt.plot(fpr, tpr, label='logreg')\n",
    "plt.plot(fpr2, tpr2, label='DT')\n",
    "#plt.plot(fpr3, tpr3, label='RF')\n",
    "plt.plot(fpr4, tpr4, label='knn')\n",
    "plt.plot([0, 1], [0, 1])\n",
    "plt.legend()\n",
    "plt.ylabel('tpr')\n",
    "plt.xlabel('fpr')\n",
    "plt.grid(True)\n",
    "plt.title('ROC curve')\n",
    "plt.xlim((-0.01, 1.01))\n",
    "plt.ylim((-0.01, 1.01))"
   ]
  },
  {
   "cell_type": "code",
   "execution_count": 149,
   "metadata": {},
   "outputs": [
    {
     "ename": "PermissionError",
     "evalue": "[Errno 13] Permission denied: 'submit.csv'",
     "output_type": "error",
     "traceback": [
      "\u001b[1;31m---------------------------------------------------------------------------\u001b[0m",
      "\u001b[1;31mPermissionError\u001b[0m                           Traceback (most recent call last)",
      "\u001b[1;32m<ipython-input-149-69d1f758c367>\u001b[0m in \u001b[0;36m<module>\u001b[1;34m()\u001b[0m\n\u001b[0;32m      6\u001b[0m \u001b[0mdf_test\u001b[0m\u001b[1;33m[\u001b[0m\u001b[1;34m'target'\u001b[0m\u001b[1;33m]\u001b[0m\u001b[1;33m=\u001b[0m \u001b[1;33m[\u001b[0m \u001b[1;36m1\u001b[0m \u001b[1;32mif\u001b[0m \u001b[0my\u001b[0m \u001b[1;33m>\u001b[0m \u001b[1;33m(\u001b[0m\u001b[1;36m0.084\u001b[0m\u001b[1;33m)\u001b[0m \u001b[1;32melse\u001b[0m \u001b[1;36m0\u001b[0m \u001b[1;32mfor\u001b[0m \u001b[0my\u001b[0m \u001b[1;32min\u001b[0m \u001b[1;33m(\u001b[0m\u001b[0mbest_model\u001b[0m\u001b[1;33m.\u001b[0m\u001b[0mpredict_proba\u001b[0m\u001b[1;33m(\u001b[0m\u001b[0mtest_data_prepared\u001b[0m\u001b[1;33m)\u001b[0m\u001b[1;33m[\u001b[0m\u001b[1;33m:\u001b[0m\u001b[1;33m,\u001b[0m \u001b[1;36m1\u001b[0m\u001b[1;33m]\u001b[0m\u001b[1;33m)\u001b[0m\u001b[1;33m]\u001b[0m\u001b[1;33m\u001b[0m\u001b[0m\n\u001b[0;32m      7\u001b[0m \u001b[1;31m#df_test['target'] = best_model.predict(test_data_prepared)\u001b[0m\u001b[1;33m\u001b[0m\u001b[1;33m\u001b[0m\u001b[0m\n\u001b[1;32m----> 8\u001b[1;33m \u001b[0mdf_test\u001b[0m\u001b[1;33m[\u001b[0m\u001b[1;33m[\u001b[0m\u001b[1;34m'_id'\u001b[0m\u001b[1;33m,\u001b[0m\u001b[1;34m'target'\u001b[0m\u001b[1;33m]\u001b[0m\u001b[1;33m]\u001b[0m\u001b[1;33m.\u001b[0m\u001b[0mto_csv\u001b[0m\u001b[1;33m(\u001b[0m\u001b[1;34m'submit.csv'\u001b[0m\u001b[1;33m,\u001b[0m\u001b[0mindex\u001b[0m\u001b[1;33m=\u001b[0m\u001b[1;32mFalse\u001b[0m\u001b[1;33m)\u001b[0m\u001b[1;33m\u001b[0m\u001b[0m\n\u001b[0m",
      "\u001b[1;32m~\\Anaconda3\\lib\\site-packages\\pandas\\core\\frame.py\u001b[0m in \u001b[0;36mto_csv\u001b[1;34m(self, path_or_buf, sep, na_rep, float_format, columns, header, index, index_label, mode, encoding, compression, quoting, quotechar, line_terminator, chunksize, tupleize_cols, date_format, doublequote, escapechar, decimal)\u001b[0m\n\u001b[0;32m   1743\u001b[0m                                  \u001b[0mdoublequote\u001b[0m\u001b[1;33m=\u001b[0m\u001b[0mdoublequote\u001b[0m\u001b[1;33m,\u001b[0m\u001b[1;33m\u001b[0m\u001b[0m\n\u001b[0;32m   1744\u001b[0m                                  escapechar=escapechar, decimal=decimal)\n\u001b[1;32m-> 1745\u001b[1;33m         \u001b[0mformatter\u001b[0m\u001b[1;33m.\u001b[0m\u001b[0msave\u001b[0m\u001b[1;33m(\u001b[0m\u001b[1;33m)\u001b[0m\u001b[1;33m\u001b[0m\u001b[0m\n\u001b[0m\u001b[0;32m   1746\u001b[0m \u001b[1;33m\u001b[0m\u001b[0m\n\u001b[0;32m   1747\u001b[0m         \u001b[1;32mif\u001b[0m \u001b[0mpath_or_buf\u001b[0m \u001b[1;32mis\u001b[0m \u001b[1;32mNone\u001b[0m\u001b[1;33m:\u001b[0m\u001b[1;33m\u001b[0m\u001b[0m\n",
      "\u001b[1;32m~\\Anaconda3\\lib\\site-packages\\pandas\\io\\formats\\csvs.py\u001b[0m in \u001b[0;36msave\u001b[1;34m(self)\u001b[0m\n\u001b[0;32m    134\u001b[0m             f, handles = _get_handle(self.path_or_buf, self.mode,\n\u001b[0;32m    135\u001b[0m                                      \u001b[0mencoding\u001b[0m\u001b[1;33m=\u001b[0m\u001b[0mencoding\u001b[0m\u001b[1;33m,\u001b[0m\u001b[1;33m\u001b[0m\u001b[0m\n\u001b[1;32m--> 136\u001b[1;33m                                      compression=None)\n\u001b[0m\u001b[0;32m    137\u001b[0m             \u001b[0mclose\u001b[0m \u001b[1;33m=\u001b[0m \u001b[1;32mTrue\u001b[0m \u001b[1;32mif\u001b[0m \u001b[0mself\u001b[0m\u001b[1;33m.\u001b[0m\u001b[0mcompression\u001b[0m \u001b[1;32mis\u001b[0m \u001b[1;32mNone\u001b[0m \u001b[1;32melse\u001b[0m \u001b[1;32mFalse\u001b[0m\u001b[1;33m\u001b[0m\u001b[0m\n\u001b[0;32m    138\u001b[0m \u001b[1;33m\u001b[0m\u001b[0m\n",
      "\u001b[1;32m~\\Anaconda3\\lib\\site-packages\\pandas\\io\\common.py\u001b[0m in \u001b[0;36m_get_handle\u001b[1;34m(path_or_buf, mode, encoding, compression, memory_map, is_text)\u001b[0m\n\u001b[0;32m    398\u001b[0m         \u001b[1;32melif\u001b[0m \u001b[0mencoding\u001b[0m\u001b[1;33m:\u001b[0m\u001b[1;33m\u001b[0m\u001b[0m\n\u001b[0;32m    399\u001b[0m             \u001b[1;31m# Python 3 and encoding\u001b[0m\u001b[1;33m\u001b[0m\u001b[1;33m\u001b[0m\u001b[0m\n\u001b[1;32m--> 400\u001b[1;33m             \u001b[0mf\u001b[0m \u001b[1;33m=\u001b[0m \u001b[0mopen\u001b[0m\u001b[1;33m(\u001b[0m\u001b[0mpath_or_buf\u001b[0m\u001b[1;33m,\u001b[0m \u001b[0mmode\u001b[0m\u001b[1;33m,\u001b[0m \u001b[0mencoding\u001b[0m\u001b[1;33m=\u001b[0m\u001b[0mencoding\u001b[0m\u001b[1;33m)\u001b[0m\u001b[1;33m\u001b[0m\u001b[0m\n\u001b[0m\u001b[0;32m    401\u001b[0m         \u001b[1;32melif\u001b[0m \u001b[0mis_text\u001b[0m\u001b[1;33m:\u001b[0m\u001b[1;33m\u001b[0m\u001b[0m\n\u001b[0;32m    402\u001b[0m             \u001b[1;31m# Python 3 and no explicit encoding\u001b[0m\u001b[1;33m\u001b[0m\u001b[1;33m\u001b[0m\u001b[0m\n",
      "\u001b[1;31mPermissionError\u001b[0m: [Errno 13] Permission denied: 'submit.csv'"
     ]
    }
   ],
   "source": [
    "#выбираем модель\n",
    "best_model = random_forest\n",
    "df_test = pd.read_csv('test.csv')\n",
    "ids = df_test['_id']\n",
    "test_data_prepared = StandardScaler().fit_transform(preprocessing(df_test))\n",
    "df_test['target']= [ 1 if y > (0.084) else 0 for y in (best_model.predict_proba(test_data_prepared)[:, 1])]\n",
    "#df_test['target'] = best_model.predict(test_data_prepared)\n",
    "df_test[['_id','target']].to_csv('submit.csv',index=False)"
   ]
  }
 ],
 "metadata": {
  "kernelspec": {
   "display_name": "Python 3",
   "language": "python",
   "name": "python3"
  },
  "language_info": {
   "codemirror_mode": {
    "name": "ipython",
    "version": 3
   },
   "file_extension": ".py",
   "mimetype": "text/x-python",
   "name": "python",
   "nbconvert_exporter": "python",
   "pygments_lexer": "ipython3",
   "version": "3.6.5"
  }
 },
 "nbformat": 4,
 "nbformat_minor": 2
}
