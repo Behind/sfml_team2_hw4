{
 "cells": [
  {
   "cell_type": "code",
   "execution_count": 22,
   "metadata": {},
   "outputs": [],
   "source": [
    "import pandas as pd\n",
    "import numpy as np\n",
    "from sklearn.utils import resample\n",
    "from sklearn.metrics import auc, roc_auc_score\n",
    "\n",
    "df = pd.read_csv('train.csv')"
   ]
  },
  {
   "cell_type": "code",
   "execution_count": 2,
   "metadata": {},
   "outputs": [
    {
     "name": "stdout",
     "output_type": "stream",
     "text": [
      "1 2 5 7 8\n"
     ]
    }
   ],
   "source": [
    "#функция для разбиения возрастов по группам согласно гипотезе, приведенной в файле.\n",
    "#group_size - параметр размера каждой группы\n",
    "#результаты нужно обязательно подвергуть one-hot encoding, так как зависимость нелинейная\n",
    "def get_age_group(age):\n",
    "    group_size = 7\n",
    "    if age <= 17:\n",
    "        return 1\n",
    "    if age > 66:\n",
    "        age = 66\n",
    "    return 1 + ((age - 17) // group_size)\n",
    "print(get_age_group(18), get_age_group(27), get_age_group(45), get_age_group(60), get_age_group(80))"
   ]
  },
  {
   "cell_type": "code",
   "execution_count": 3,
   "metadata": {},
   "outputs": [
    {
     "name": "stdout",
     "output_type": "stream",
     "text": [
      "1 1 2 3\n"
     ]
    }
   ],
   "source": [
    "def get_pdays_group(pdays):\n",
    "    if pdays == 0 or pdays == 999:\n",
    "        return 1\n",
    "    elif 2 <= pdays < 15:\n",
    "        return 2\n",
    "    return 3\n",
    "\n",
    "print (get_pdays_group(999), get_pdays_group(0), get_pdays_group(3), get_pdays_group(20))"
   ]
  },
  {
   "cell_type": "code",
   "execution_count": 4,
   "metadata": {},
   "outputs": [],
   "source": [
    "def preprocessing_optimal(df):\n",
    "    df = df.drop([\"_id\", \"age\", 'job', \"marital\", \"education\", \"default\",\n",
    "                 \"housing\", \"loan\", \"day_of_week\", 'campaign', 'previous', 'emp.var.rate', \"cons.price.idx\",\n",
    "                 \"cons.conf.idx\", \"euribor3m\", 'pdays'], axis = 1)\n",
    "    df = pd.get_dummies(df, columns=['contact', 'month', 'poutcome'])\n",
    "    return df\n",
    "\n",
    "def preprocessing_1(df):\n",
    "    \n",
    "    df[\"age_group\"] = df[\"age\"].map(get_age_group)\n",
    "    df['pdays'] = df['pdays'].map(get_pdays_group)\n",
    "    df = df.drop([\"_id\", \"age\", \"marital\", \"default\",\n",
    "                 \"housing\", \"loan\", \"day_of_week\", 'campaign', 'previous', \"cons.price.idx\",\n",
    "                 \"cons.conf.idx\", \"euribor3m\"], axis = 1)\n",
    "    df = pd.get_dummies(df, columns=['age_group', 'contact', 'month', 'poutcome', 'pdays', 'job', 'education'])\n",
    "    return df\n",
    "\n",
    "def preprocessing(df_input, algorithm = preprocessing_optimal):\n",
    "    return algorithm(df_input)"
   ]
  },
  {
   "cell_type": "code",
   "execution_count": 5,
   "metadata": {},
   "outputs": [],
   "source": [
    "from sklearn.preprocessing import StandardScaler\n",
    "#обрабатываем данные инициализируем X и Y\n",
    "df_prepared = preprocessing(df)\n",
    "y = df_prepared['target']\n",
    "X = StandardScaler().fit_transform(df_prepared.drop('target', axis=1))"
   ]
  },
  {
   "cell_type": "code",
   "execution_count": 7,
   "metadata": {},
   "outputs": [
    {
     "name": "stdout",
     "output_type": "stream",
     "text": [
      "(17298, 17) (7414, 17) (17298,) (7414,)\n"
     ]
    },
    {
     "name": "stderr",
     "output_type": "stream",
     "text": [
      "C:\\Users\\Vera Osipchuk\\Anaconda3\\lib\\site-packages\\sklearn\\model_selection\\_split.py:2026: FutureWarning: From version 0.21, test_size will always complement train_size unless both are specified.\n",
      "  FutureWarning)\n"
     ]
    }
   ],
   "source": [
    "from sklearn.model_selection import train_test_split\n",
    "X_train, X_test, y_train, y_test = train_test_split(X, y, train_size=0.7, random_state=12134)\n",
    "print(X_train.shape, X_test.shape, y_train.shape, y_test.shape)"
   ]
  },
  {
   "cell_type": "code",
   "execution_count": 8,
   "metadata": {},
   "outputs": [],
   "source": [
    "from sklearn.linear_model import LogisticRegression\n",
    "from sklearn.tree import DecisionTreeClassifier\n",
    "from sklearn.ensemble import RandomForestClassifier\n",
    "from sklearn.neighbors import KNeighborsClassifier\n",
    "from sklearn.metrics import roc_auc_score"
   ]
  },
  {
   "cell_type": "code",
   "execution_count": 9,
   "metadata": {},
   "outputs": [],
   "source": [
    "logreg = LogisticRegression().fit(X_train, y_train)\n",
    "decision_tree = DecisionTreeClassifier(max_depth = 5).fit(X_train, y_train)\n",
    "random_forest = RandomForestClassifier(max_depth = 8).fit(X_train, y_train)\n"
   ]
  },
  {
   "cell_type": "code",
   "execution_count": 11,
   "metadata": {},
   "outputs": [
    {
     "data": {
      "text/plain": [
       "0.86484998646369338"
      ]
     },
     "execution_count": 11,
     "metadata": {},
     "output_type": "execute_result"
    }
   ],
   "source": [
    "model = logreg\n",
    "lst = list()\n",
    "for i in range (1,21):\n",
    "    lst.append(roc_auc_score(y_test, \n",
    "        [ 1 if y > (0.02 * i) else 0 for y in model.predict_proba(X_test)[:,1]]))\n",
    "max(lst)"
   ]
  },
  {
   "cell_type": "code",
   "execution_count": 15,
   "metadata": {},
   "outputs": [
    {
     "data": {
      "text/plain": [
       "0.86860267841555938"
      ]
     },
     "execution_count": 15,
     "metadata": {},
     "output_type": "execute_result"
    }
   ],
   "source": [
    "model = decision_tree\n",
    "lst = list()\n",
    "for i in range (1,21):\n",
    "    lst.append(roc_auc_score(y_test, \n",
    "        [ 1 if y > (0.02 * i) else 0 for y in model.predict_proba(X_test)[:,1]]))\n",
    "max(lst)"
   ]
  },
  {
   "cell_type": "code",
   "execution_count": 24,
   "metadata": {},
   "outputs": [
    {
     "data": {
      "image/png": "[encoded data removed]",
      "text/plain": [
       "<matplotlib.figure.Figure at 0x20c8bf9beb8>"
      ]
     },
     "metadata": {},
     "output_type": "display_data"
    }
   ],
   "source": [
    "#определяем оптимальную глубину\n",
    "\n",
    "max_depths = np.linspace(1, 32, 32, endpoint=True)\n",
    "train_results = []\n",
    "test_results = []\n",
    "for max_depth in max_depths:\n",
    "   dt = DecisionTreeClassifier(max_depth=max_depth)\n",
    "   dt.fit(X_train, y_train)\n",
    "   train_pred = dt.predict(X_train)\n",
    "   false_positive_rate, true_positive_rate, thresholds = roc_curve(y_train, train_pred)\n",
    "   roc_auc = auc(false_positive_rate, true_positive_rate)\n",
    "   train_results.append(roc_auc)\n",
    "   y_pred = dt.predict(X_test)\n",
    "   false_positive_rate, true_positive_rate, thresholds = roc_curve(y_test, y_pred)\n",
    "   roc_auc = auc(false_positive_rate, true_positive_rate)\n",
    "   test_results.append(roc_auc)\n",
    "from matplotlib.legend_handler import HandlerLine2D\n",
    "line1, = plt.plot(max_depths, train_results, 'b', label='Train AUC')\n",
    "line2, = plt.plot(max_depths, test_results, 'r', label='Test AUC')\n",
    "plt.legend(handler_map={line1: HandlerLine2D(numpoints=2)})\n",
    "plt.ylabel('AUC score')\n",
    "plt.xlabel('Tree depth')\n",
    "plt.show()"
   ]
  },
  {
   "cell_type": "code",
   "execution_count": 42,
   "metadata": {},
   "outputs": [
    {
     "data": {
      "text/plain": [
       "[0.84642817906239542,\n",
       " 0.84469907812359191,\n",
       " 0.84567458791954553,\n",
       " 0.84642817906239542]"
      ]
     },
     "execution_count": 42,
     "metadata": {},
     "output_type": "execute_result"
    }
   ],
   "source": [
    "#определяем оптимальную метрику\n",
    "\n",
    "metrics_list = ['euclidean', 'manhattan', 'chebyshev', 'minkowski']\n",
    "comparison_metrics = []\n",
    "\n",
    "for i in metrics_list:\n",
    "    knn = KNeighborsClassifier(n_neighbors=5, metric=i).fit(X_train, y_train)\n",
    "    \n",
    "    model = knn\n",
    "    lst = list()\n",
    "    for i in range (1,21):\n",
    "        lst.append(roc_auc_score(y_test, \n",
    "                                 [ 1 if y > (0.02 * i) else 0 for y in model.predict_proba(X_test)[:,1]]))\n",
    "    comparison_metrics.append(max(lst))\n",
    "    \n",
    "comparison_metrics"
   ]
  },
  {
   "cell_type": "code",
   "execution_count": 48,
   "metadata": {},
   "outputs": [
    {
     "data": {
      "text/plain": [
       "[0.71261150544020602,\n",
       " 0.85675607941031795,\n",
       " 0.8721890227773722,\n",
       " 0.87655738361198399,\n",
       " 0.8743916659491785,\n",
       " 0.87721847818278231,\n",
       " 0.87474044748964119,\n",
       " 0.87650391474375255,\n",
       " 0.87661085248021509,\n",
       " 0.87597946283621175]"
      ]
     },
     "execution_count": 48,
     "metadata": {},
     "output_type": "execute_result"
    }
   ],
   "source": [
    "#определяем оптимальное количество соседей\n",
    "neighbors_list = np.linspace(1, 100, 10, endpoint=True, dtype=int)\n",
    "comparison_neighbors = []\n",
    "\n",
    "for k in neighbors_list:\n",
    "    knn = KNeighborsClassifier(n_neighbors=k, metric='minkowski').fit(X_train, y_train)\n",
    "    \n",
    "    model = knn\n",
    "    lst = list()\n",
    "    for i in range (1,21):\n",
    "        lst.append(roc_auc_score(y_test, \n",
    "                                 [ 1 if y > (0.02 * int(i)) else 0 for y in model.predict_proba(X_test)[:,1]]))\n",
    "    comparison_neighbors.append(max(lst))\n",
    "    \n",
    "comparison_neighbors"
   ]
  },
  {
   "cell_type": "code",
   "execution_count": 33,
   "metadata": {},
   "outputs": [
    {
     "data": {
      "text/plain": [
       "(-0.01, 1.01)"
      ]
     },
     "execution_count": 33,
     "metadata": {},
     "output_type": "execute_result"
    },
    {
     "data": {
      "image/png": "[encoded data removed]",
      "text/plain": [
       "<matplotlib.figure.Figure at 0x20c8469e128>"
      ]
     },
     "metadata": {},
     "output_type": "display_data"
    }
   ],
   "source": [
    "%matplotlib inline\n",
    "from matplotlib import pyplot as plt\n",
    "from sklearn.metrics import roc_curve\n",
    "fpr, tpr, thresholds = roc_curve(y_test, logreg.predict(X_test))\n",
    "fpr2, tpr2, thresholds2 = roc_curve(y_test, decision_tree.predict(X_test))\n",
    "fpr3, tpr3, thresholds3 = roc_curve(y_test, random_forest.predict(X_test))\n",
    "fpr4, tpr4, thresholds4 = roc_curve(y_test, knn.predict(X_test))\n",
    "plt.figure(figsize=(5, 5))\n",
    "plt.plot(fpr, tpr, label='logreg')\n",
    "plt.plot(fpr2, tpr2, label='DT')\n",
    "plt.plot(fpr3, tpr3, label='RF')\n",
    "plt.plot(fpr3, tpr3, label='knn')\n",
    "plt.plot([0, 1], [0, 1])\n",
    "plt.legend()\n",
    "plt.ylabel('tpr')\n",
    "plt.xlabel('fpr')\n",
    "plt.grid(True)\n",
    "plt.title('ROC curve')\n",
    "plt.xlim((-0.01, 1.01))\n",
    "plt.ylim((-0.01, 1.01))"
   ]
  },
  {
   "cell_type": "code",
   "execution_count": null,
   "metadata": {},
   "outputs": [],
   "source": []
  }
 ],
 "metadata": {
  "kernelspec": {
   "display_name": "Python 3",
   "language": "python",
   "name": "python3"
  },
  "language_info": {
   "codemirror_mode": {
    "name": "ipython",
    "version": 3
   },
   "file_extension": ".py",
   "mimetype": "text/x-python",
   "name": "python",
   "nbconvert_exporter": "python",
   "pygments_lexer": "ipython3",
   "version": "3.6.3"
  }
 },
 "nbformat": 4,
 "nbformat_minor": 2
}
