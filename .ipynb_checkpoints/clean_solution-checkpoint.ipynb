{
 "cells": [
  {
   "cell_type": "code",
   "execution_count": 140,
   "metadata": {},
   "outputs": [],
   "source": [
    "import pandas as pd\n",
    "from sklearn.utils import resample\n",
    "df = pd.read_csv('train.csv')"
   ]
  },
  {
   "cell_type": "code",
   "execution_count": 141,
   "metadata": {},
   "outputs": [
    {
     "name": "stdout",
     "output_type": "stream",
     "text": [
      "<class 'pandas.core.frame.DataFrame'>\n",
      "RangeIndex: 24712 entries, 0 to 24711\n",
      "Data columns (total 22 columns):\n",
      "_id               24712 non-null object\n",
      "age               24712 non-null int64\n",
      "job               24712 non-null object\n",
      "marital           24712 non-null object\n",
      "education         24712 non-null object\n",
      "default           24712 non-null object\n",
      "housing           24712 non-null object\n",
      "loan              24712 non-null object\n",
      "contact           24712 non-null object\n",
      "month             24712 non-null object\n",
      "day_of_week       24712 non-null object\n",
      "duration          24712 non-null int64\n",
      "campaign          24712 non-null int64\n",
      "pdays             24712 non-null int64\n",
      "previous          24712 non-null int64\n",
      "poutcome          24712 non-null object\n",
      "emp.var.rate      24712 non-null float64\n",
      "cons.price.idx    24712 non-null float64\n",
      "cons.conf.idx     24712 non-null float64\n",
      "euribor3m         24712 non-null float64\n",
      "nr.employed       24712 non-null float64\n",
      "target            24712 non-null int64\n",
      "dtypes: float64(5), int64(6), object(11)\n",
      "memory usage: 4.1+ MB\n"
     ]
    }
   ],
   "source": [
    "df.info()"
   ]
  },
  {
   "cell_type": "code",
   "execution_count": 142,
   "metadata": {},
   "outputs": [
    {
     "name": "stdout",
     "output_type": "stream",
     "text": [
      "1 2 5 7 8\n"
     ]
    }
   ],
   "source": [
    "#функция для разбиения возрастов по группам согласно гипотезе, приведенной в файле.\n",
    "#group_size - параметр размера каждой группы\n",
    "#результаты нужно обязательно подвергуть one-hot encoding, так как зависимость нелинейная\n",
    "def get_age_group(age):\n",
    "    group_size = 7\n",
    "    if age <= 17:\n",
    "        return 1\n",
    "    if age > 66:\n",
    "        age = 66\n",
    "    return 1 + ((age - 17) // group_size)\n",
    "print(get_age_group(18), get_age_group(27), get_age_group(45), get_age_group(60), get_age_group(80))"
   ]
  },
  {
   "cell_type": "code",
   "execution_count": 143,
   "metadata": {},
   "outputs": [
    {
     "name": "stdout",
     "output_type": "stream",
     "text": [
      "1 1 2 3\n"
     ]
    }
   ],
   "source": [
    "def get_pdays_group(pdays):\n",
    "    if (pdays == 0) or (pdays == 999):\n",
    "        return 1\n",
    "    elif 2 <= pdays < 15:\n",
    "        return 2\n",
    "    return 3\n",
    "\n",
    "print (get_pdays_group(999), get_pdays_group(0), get_pdays_group(3), get_pdays_group(20))"
   ]
  },
  {
   "cell_type": "code",
   "execution_count": 144,
   "metadata": {},
   "outputs": [],
   "source": [
    "def preprocessing_optimal(df):\n",
    "    df = df.drop([\"_id\", \"age\", 'job', \"marital\", \"education\", \"default\",\n",
    "                 \"housing\", \"loan\", \"day_of_week\", 'campaign', 'previous', 'emp.var.rate', \"cons.price.idx\",\n",
    "                 \"cons.conf.idx\", \"euribor3m\", 'pdays'], axis = 1)\n",
    "    df = pd.get_dummies(df, columns=['contact', 'month', 'poutcome'])\n",
    "    return df\n",
    "\n",
    "def preprocessing_1(df):\n",
    "    \n",
    "    df[\"age_group\"] = df[\"age\"].map(get_age_group)\n",
    "    df['pdays'] = df['pdays'].map(get_pdays_group)\n",
    "    df = df.drop([\"_id\", \"age\", \"default\",\n",
    "                 \"housing\", \"loan\", \"day_of_week\", 'previous', \"cons.price.idx\",\n",
    "                 \"cons.conf.idx\", \"euribor3m\", 'marital'], axis = 1)\n",
    "    df = pd.get_dummies(df, columns=['age_group', 'contact', 'month', 'poutcome', 'pdays', 'job', 'education'])\n",
    "    return df\n",
    "\n",
    "def preprocessing(df_input, algorithm = preprocessing_optimal):\n",
    "    return algorithm(df_input)"
   ]
  },
  {
   "cell_type": "code",
   "execution_count": 145,
   "metadata": {},
   "outputs": [],
   "source": [
    "from sklearn.preprocessing import StandardScaler\n",
    "#обрабатываем данные инициализируем X и Y\n",
    "df_prepared = preprocessing(df)\n",
    "y = df_prepared['target']\n",
    "X = StandardScaler().fit_transform(df_prepared.drop('target', axis=1))"
   ]
  },
  {
   "cell_type": "code",
   "execution_count": 146,
   "metadata": {},
   "outputs": [
    {
     "name": "stdout",
     "output_type": "stream",
     "text": [
      "<class 'pandas.core.frame.DataFrame'>\n",
      "RangeIndex: 24712 entries, 0 to 24711\n",
      "Data columns (total 18 columns):\n",
      "duration                24712 non-null int64\n",
      "nr.employed             24712 non-null float64\n",
      "target                  24712 non-null int64\n",
      "contact_cellular        24712 non-null uint8\n",
      "contact_telephone       24712 non-null uint8\n",
      "month_apr               24712 non-null uint8\n",
      "month_aug               24712 non-null uint8\n",
      "month_dec               24712 non-null uint8\n",
      "month_jul               24712 non-null uint8\n",
      "month_jun               24712 non-null uint8\n",
      "month_mar               24712 non-null uint8\n",
      "month_may               24712 non-null uint8\n",
      "month_nov               24712 non-null uint8\n",
      "month_oct               24712 non-null uint8\n",
      "month_sep               24712 non-null uint8\n",
      "poutcome_failure        24712 non-null uint8\n",
      "poutcome_nonexistent    24712 non-null uint8\n",
      "poutcome_success        24712 non-null uint8\n",
      "dtypes: float64(1), int64(2), uint8(15)\n",
      "memory usage: 941.3 KB\n"
     ]
    }
   ],
   "source": [
    "df_prepared.info()"
   ]
  },
  {
   "cell_type": "code",
   "execution_count": 147,
   "metadata": {},
   "outputs": [
    {
     "name": "stdout",
     "output_type": "stream",
     "text": [
      "(17298, 17) (7414, 17) (17298,) (7414,)\n"
     ]
    },
    {
     "name": "stderr",
     "output_type": "stream",
     "text": [
      "C:\\Users\\Vera Osipchuk\\Anaconda3\\lib\\site-packages\\sklearn\\model_selection\\_split.py:2026: FutureWarning: From version 0.21, test_size will always complement train_size unless both are specified.\n",
      "  FutureWarning)\n"
     ]
    }
   ],
   "source": [
    "from sklearn.model_selection import train_test_split\n",
    "X_train, X_test, y_train, y_test = train_test_split(X, Y, train_size=0.7, random_state=12134)\n",
    "print(X_train.shape, X_test.shape, y_train.shape, y_test.shape)"
   ]
  },
  {
   "cell_type": "code",
   "execution_count": 148,
   "metadata": {},
   "outputs": [],
   "source": [
    "from sklearn.linear_model import LogisticRegression\n",
    "from sklearn.tree import DecisionTreeClassifier\n",
    "from sklearn.ensemble import RandomForestClassifier\n",
    "from sklearn.neighbors import KNeighborsClassifier\n",
    "from sklearn.metrics import roc_auc_score"
   ]
  },
  {
   "cell_type": "code",
   "execution_count": 149,
   "metadata": {},
   "outputs": [],
   "source": [
    "logreg = LogisticRegression().fit(X_train, y_train)\n",
    "decision_tree = DecisionTreeClassifier(max_depth = 20).fit(X_train, y_train)\n",
    "random_forest = RandomForestClassifier(max_depth = 8).fit(X_train, y_train)\n",
    "knn = KNeighborsClassifier(n_neighbors=50, metric='minkowski').fit(X_train, y_train)\n",
    "\n",
    "model_list = [logreg, decision_tree, knn]"
   ]
  },
  {
   "cell_type": "code",
   "execution_count": 150,
   "metadata": {},
   "outputs": [
    {
     "data": {
      "text/html": [
       "<div>\n",
       "<style>\n",
       "    .dataframe thead tr:only-child th {\n",
       "        text-align: right;\n",
       "    }\n",
       "\n",
       "    .dataframe thead th {\n",
       "        text-align: left;\n",
       "    }\n",
       "\n",
       "    .dataframe tbody tr th {\n",
       "        vertical-align: top;\n",
       "    }\n",
       "</style>\n",
       "<table border=\"1\" class=\"dataframe\">\n",
       "  <thead>\n",
       "    <tr style=\"text-align: right;\">\n",
       "      <th></th>\n",
       "      <th>max_value</th>\n",
       "    </tr>\n",
       "  </thead>\n",
       "  <tbody>\n",
       "    <tr>\n",
       "      <th>LogisticRegression(C=1.0, class_weight=None, dual=False, fit_intercept=True,\\n          intercept_scaling=1, max_iter=100, multi_class='ovr', n_jobs=1,\\n          penalty='l2', random_state=None, solver='liblinear', tol=0.0001,\\n          verbose=0, warm_start=False)</th>\n",
       "      <td>0.864850</td>\n",
       "    </tr>\n",
       "    <tr>\n",
       "      <th>DecisionTreeClassifier(class_weight=None, criterion='gini', max_depth=20,\\n            max_features=None, max_leaf_nodes=None,\\n            min_impurity_decrease=0.0, min_impurity_split=None,\\n            min_samples_leaf=1, min_samples_split=2,\\n            min_weight_fraction_leaf=0.0, presort=False, random_state=None,\\n            splitter='best')</th>\n",
       "      <td>0.736140</td>\n",
       "    </tr>\n",
       "    <tr>\n",
       "      <th>KNeighborsClassifier(algorithm='auto', leaf_size=30, metric='minkowski',\\n           metric_params=None, n_jobs=1, n_neighbors=50, p=2,\\n           weights='uniform')</th>\n",
       "      <td>0.874637</td>\n",
       "    </tr>\n",
       "  </tbody>\n",
       "</table>\n",
       "</div>"
      ],
      "text/plain": [
       "                                                    max_value\n",
       "LogisticRegression(C=1.0, class_weight=None, du...   0.864850\n",
       "DecisionTreeClassifier(class_weight=None, crite...   0.736140\n",
       "KNeighborsClassifier(algorithm='auto', leaf_siz...   0.874637"
      ]
     },
     "execution_count": 150,
     "metadata": {},
     "output_type": "execute_result"
    }
   ],
   "source": [
    "model_max = []\n",
    "\n",
    "for m in model_list:\n",
    "    \n",
    "    model = m\n",
    "    \n",
    "    lst = []\n",
    "    for i in range (1,21):\n",
    "        lst.append(roc_auc_score(y_test,\n",
    "                                 [ 1 if y > (0.02 * i) else 0 for y in model.predict_proba(X_test)[:,1]]))\n",
    "    model_max.append(max(lst))\n",
    "    lst.clear()    \n",
    "    \n",
    "model_result = pd.DataFrame({'max_value':model_max}, index=model_list)\n",
    "model_result"
   ]
  },
  {
   "cell_type": "code",
   "execution_count": 151,
   "metadata": {},
   "outputs": [
    {
     "data": {
      "text/plain": [
       "(-0.01, 1.01)"
      ]
     },
     "execution_count": 151,
     "metadata": {},
     "output_type": "execute_result"
    },
    {
     "data": {
      "image/png": "[encoded data removed]",
      "text/plain": [
       "<matplotlib.figure.Figure at 0x1935e7ef668>"
      ]
     },
     "metadata": {},
     "output_type": "display_data"
    }
   ],
   "source": [
    "%matplotlib inline\n",
    "from matplotlib import pyplot as plt\n",
    "from sklearn.metrics import roc_curve\n",
    "fpr, tpr, thresholds = roc_curve(y_test, logreg.predict(X_test))\n",
    "fpr2, tpr2, thresholds2 = roc_curve(y_test, decision_tree.predict(X_test))\n",
    "#fpr3, tpr3, thresholds3 = roc_curve(y_test, random_forest.predict(X_test))\n",
    "fpr4, tpr4, thresholds4 = roc_curve(y_test, knn.predict(X_test))\n",
    "plt.figure(figsize=(5, 5))\n",
    "plt.plot(fpr, tpr, label='logreg')\n",
    "plt.plot(fpr2, tpr2, label='DT')\n",
    "plt.plot(fpr3, tpr3, label='RF')\n",
    "plt.plot(fpr3, tpr3, label='knn')\n",
    "plt.plot([0, 1], [0, 1])\n",
    "plt.legend()\n",
    "plt.ylabel('tpr')\n",
    "plt.xlabel('fpr')\n",
    "plt.grid(True)\n",
    "plt.title('ROC curve')\n",
    "plt.xlim((-0.01, 1.01))\n",
    "plt.ylim((-0.01, 1.01))"
   ]
  },
  {
   "cell_type": "code",
   "execution_count": null,
   "metadata": {},
   "outputs": [],
   "source": []
  }
 ],
 "metadata": {
  "kernelspec": {
   "display_name": "Python 3",
   "language": "python",
   "name": "python3"
  },
  "language_info": {
   "codemirror_mode": {
    "name": "ipython",
    "version": 3
   },
   "file_extension": ".py",
   "mimetype": "text/x-python",
   "name": "python",
   "nbconvert_exporter": "python",
   "pygments_lexer": "ipython3",
   "version": "3.6.3"
  }
 },
 "nbformat": 4,
 "nbformat_minor": 2
}
